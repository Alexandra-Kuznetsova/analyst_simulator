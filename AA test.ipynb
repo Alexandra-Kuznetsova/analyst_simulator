{
 "cells": [
  {
   "cell_type": "markdown",
   "id": "d80aa3b7",
   "metadata": {},
   "source": [
    "### Задача 1.\n",
    "\n",
    "У нас есть данные АА-теста с '2022-05-17' по '2022-05-23'. Нужно сделать симуляцию, как будто мы провели 10000 АА-тестов. На каждой итерации вам нужно сформировать подвыборки с повторением в 500 юзеров из 2 и 3 экспериментальной группы. Провести сравнение этих подвыборок t-testом."
   ]
  },
  {
   "cell_type": "code",
   "execution_count": 83,
   "id": "8747c4bc",
   "metadata": {},
   "outputs": [],
   "source": [
    "import pandahouse\n",
    "import swifter\n",
    "import hashlib\n",
    "import seaborn as sns\n",
    "import numpy as np\n",
    "from scipy import stats\n",
    "import pandas as pd"
   ]
  },
  {
   "cell_type": "code",
   "execution_count": 1,
   "id": "94191fe3",
   "metadata": {},
   "outputs": [],
   "source": [
    "#функция разделения данных на экспериментальные группы\n",
    "\n",
    "def ab_split(id, salt = 'exp_mess_1', n_groups = 5):\n",
    "    test_id = str(id) + '-' + str(salt)\n",
    "    test_id_digest = hashlib.md5(test_id.encode('ascii')).hexdigest()\n",
    "    test_id_final_int = int(test_id_digest, 16)\n",
    "    return test_id_final_int % n_groups"
   ]
  },
  {
   "cell_type": "code",
   "execution_count": 2,
   "id": "c6e68b18",
   "metadata": {},
   "outputs": [],
   "source": [
    "#вытаскиваем пользователей из clickhouse\n",
    "\n",
    "connection = {\n",
    "    'host': '***********',\n",
    "    'password': '*******',\n",
    "    'user':'*******',\n",
    "    'database':'*********'\n",
    "}\n",
    "\n",
    "q = \"\"\"\n",
    "select distinct user_id\n",
    "from {db}.feed_actions\n",
    "where toDate(time) >= '2022-05-17' and toDate(time) <= '2022-05-23'\n",
    "\"\"\"\n",
    "\n",
    "users_df = pandahouse.read_clickhouse(q, connection = connection)"
   ]
  },
  {
   "cell_type": "code",
   "execution_count": 12,
   "id": "29c2565a",
   "metadata": {},
   "outputs": [
    {
     "data": {
      "application/vnd.jupyter.widget-view+json": {
       "model_id": "827a17ffc64a4e549dffd340e0bd0b73",
       "version_major": 2,
       "version_minor": 0
      },
      "text/plain": [
       "Pandas Apply:   0%|          | 0/42585 [00:00<?, ?it/s]"
      ]
     },
     "metadata": {},
     "output_type": "display_data"
    }
   ],
   "source": [
    "users_df['hash_group'] = users_df.user_id.swifter.apply(ab_split)"
   ]
  },
  {
   "cell_type": "code",
   "execution_count": 13,
   "id": "09638c1e",
   "metadata": {},
   "outputs": [
    {
     "data": {
      "text/html": [
       "<div>\n",
       "<style scoped>\n",
       "    .dataframe tbody tr th:only-of-type {\n",
       "        vertical-align: middle;\n",
       "    }\n",
       "\n",
       "    .dataframe tbody tr th {\n",
       "        vertical-align: top;\n",
       "    }\n",
       "\n",
       "    .dataframe thead th {\n",
       "        text-align: right;\n",
       "    }\n",
       "</style>\n",
       "<table border=\"1\" class=\"dataframe\">\n",
       "  <thead>\n",
       "    <tr style=\"text-align: right;\">\n",
       "      <th></th>\n",
       "      <th>hash_group</th>\n",
       "      <th>user_id</th>\n",
       "    </tr>\n",
       "  </thead>\n",
       "  <tbody>\n",
       "    <tr>\n",
       "      <th>0</th>\n",
       "      <td>0</td>\n",
       "      <td>8725</td>\n",
       "    </tr>\n",
       "    <tr>\n",
       "      <th>1</th>\n",
       "      <td>1</td>\n",
       "      <td>8354</td>\n",
       "    </tr>\n",
       "    <tr>\n",
       "      <th>2</th>\n",
       "      <td>2</td>\n",
       "      <td>8516</td>\n",
       "    </tr>\n",
       "    <tr>\n",
       "      <th>3</th>\n",
       "      <td>3</td>\n",
       "      <td>8433</td>\n",
       "    </tr>\n",
       "    <tr>\n",
       "      <th>4</th>\n",
       "      <td>4</td>\n",
       "      <td>8557</td>\n",
       "    </tr>\n",
       "  </tbody>\n",
       "</table>\n",
       "</div>"
      ],
      "text/plain": [
       "   hash_group  user_id\n",
       "0           0     8725\n",
       "1           1     8354\n",
       "2           2     8516\n",
       "3           3     8433\n",
       "4           4     8557"
      ]
     },
     "execution_count": 13,
     "metadata": {},
     "output_type": "execute_result"
    }
   ],
   "source": [
    "users_df.groupby('hash_group').user_id.nunique().reset_index()"
   ]
  },
  {
   "cell_type": "code",
   "execution_count": 16,
   "id": "b6b0cea7",
   "metadata": {},
   "outputs": [],
   "source": [
    "#вытаскиваем данные по пользователям из clickhouse\n",
    "\n",
    "q = \"\"\"\n",
    "select exp_group, user_id, \n",
    "       sum(action = 'like') as likes,\n",
    "       sum(action = 'view') as views,\n",
    "       likes/views as ctr\n",
    "from {db}.feed_actions\n",
    "where toDate(time) >= '2022-05-17' and toDate(time) <= '2022-05-23'\n",
    "      and exp_group in (2, 3)\n",
    "group by exp_group, user_id\n",
    "\"\"\"\n",
    "\n",
    "df = pandahouse.read_clickhouse(q, connection = connection)"
   ]
  },
  {
   "cell_type": "code",
   "execution_count": 19,
   "id": "2c03cc4d",
   "metadata": {},
   "outputs": [
    {
     "data": {
      "image/png": "[encoded data removed]",
      "text/plain": [
       "<Figure size 842.4x595.44 with 1 Axes>"
      ]
     },
     "metadata": {},
     "output_type": "display_data"
    }
   ],
   "source": [
    "#визуализация распределения метрики ctr для второй и третьей группы пользователей\n",
    "\n",
    "sns.set(rc = {'figure.figsize':(11.7, 8.27)})\n",
    "\n",
    "groups = sns.histplot(data = df, \n",
    "                      x = 'ctr',\n",
    "                      hue = 'exp_group',\n",
    "                      palette = ['r', 'b'],\n",
    "                      alpha = 0.5,\n",
    "                      kde = False)"
   ]
  },
  {
   "cell_type": "code",
   "execution_count": 112,
   "id": "63a7a461",
   "metadata": {},
   "outputs": [
    {
     "name": "stdout",
     "output_type": "stream",
     "text": [
      "CPU times: user 8.64 s, sys: 117 ms, total: 8.76 s\n",
      "Wall time: 9.32 s\n"
     ]
    }
   ],
   "source": [
    "#реализация AA-теста, формирование подвыборок и сравнение их t-тестом\n",
    "\n",
    "%%time\n",
    "df_group_2 = df[df['exp_group']==2].reset_index(drop = True)\n",
    "df_group_3 = df[df['exp_group']==3].reset_index(drop = True)\n",
    "\n",
    "p_value = []\n",
    "\n",
    "for i in range(0, 10000):\n",
    "    \n",
    "    statistic, pvalue = stats.ttest_ind(df_group_2.ctr.sample(500, replace = True),\n",
    "                                        df_group_3.ctr.sample(500, replace = True),\n",
    "                                        equal_var = False)\n",
    "    \n",
    "    p_value.append(pvalue)"
   ]
  },
  {
   "cell_type": "code",
   "execution_count": 113,
   "id": "bfb1a468",
   "metadata": {},
   "outputs": [
    {
     "data": {
      "image/png": "[encoded data removed]",
      "text/plain": [
       "<Figure size 842.4x595.44 with 1 Axes>"
      ]
     },
     "metadata": {},
     "output_type": "display_data"
    }
   ],
   "source": [
    "pvalue = sns.histplot(data = p_value, \n",
    "                      alpha = 0.5,\n",
    "                      kde = False)"
   ]
  },
  {
   "cell_type": "code",
   "execution_count": 114,
   "id": "53d296ee",
   "metadata": {},
   "outputs": [
    {
     "data": {
      "text/plain": [
       "0.0527"
      ]
     },
     "execution_count": 114,
     "metadata": {},
     "output_type": "execute_result"
    }
   ],
   "source": [
    "df_p_value = pd.DataFrame(p_value)\n",
    "df_p_value[df_p_value[0] <= 0.05].shape[0]/df_p_value.shape[0]"
   ]
  },
  {
   "cell_type": "markdown",
   "id": "3fea3f53",
   "metadata": {},
   "source": [
    "Приблизительно в 5% случаев у нас получаются статистические значимые различия между 2 и 3 группой. Из чего можно сделать вывод, что система сплитования работает корректно."
   ]
  },
  {
   "cell_type": "code",
   "execution_count": null,
   "id": "37e313ac",
   "metadata": {},
   "outputs": [],
   "source": []
  }
 ],
 "metadata": {
  "kernelspec": {
   "display_name": "Python 3 (ipykernel)",
   "language": "python",
   "name": "python3"
  },
  "language_info": {
   "codemirror_mode": {
    "name": "ipython",
    "version": 3
   },
   "file_extension": ".py",
   "mimetype": "text/x-python",
   "name": "python",
   "nbconvert_exporter": "python",
   "pygments_lexer": "ipython3",
   "version": "3.8.2"
  }
 },
 "nbformat": 4,
 "nbformat_minor": 5
}

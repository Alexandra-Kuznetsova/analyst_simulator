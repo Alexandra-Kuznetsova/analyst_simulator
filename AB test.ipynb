{
 "cells": [
  {
   "cell_type": "markdown",
   "id": "36db5673",
   "metadata": {},
   "source": [
    "### Задача 2.\n",
    "\n",
    "Анализ результатов эксперимента. Эксперимент проходил с 2022-05-24 по 2022-05-30 включительно. Для эксперимента были задействованы 2 и 1 группы. \n",
    "\n",
    "В группе 2 был использован один из новых алгоритмов рекомендации постов, группа 1 использовалась в качестве контроля. \n",
    "\n",
    "Основная гипотеза заключается в том, что новый алгоритм во 2-й группе приведет к увеличению CTR. "
   ]
  },
  {
   "cell_type": "code",
   "execution_count": 77,
   "id": "e5d661a6",
   "metadata": {},
   "outputs": [],
   "source": [
    "import pandahouse\n",
    "import swifter\n",
    "import hashlib\n",
    "import seaborn as sns\n",
    "import numpy as np\n",
    "from scipy import stats\n",
    "import pandas as pd\n",
    "import matplotlib.pyplot as plt"
   ]
  },
  {
   "cell_type": "code",
   "execution_count": 78,
   "id": "6b71dff9",
   "metadata": {},
   "outputs": [
    {
     "data": {
      "text/html": [
       "<div>\n",
       "<style scoped>\n",
       "    .dataframe tbody tr th:only-of-type {\n",
       "        vertical-align: middle;\n",
       "    }\n",
       "\n",
       "    .dataframe tbody tr th {\n",
       "        vertical-align: top;\n",
       "    }\n",
       "\n",
       "    .dataframe thead th {\n",
       "        text-align: right;\n",
       "    }\n",
       "</style>\n",
       "<table border=\"1\" class=\"dataframe\">\n",
       "  <thead>\n",
       "    <tr style=\"text-align: right;\">\n",
       "      <th></th>\n",
       "      <th>exp_group</th>\n",
       "      <th>user_id</th>\n",
       "      <th>likes</th>\n",
       "      <th>views</th>\n",
       "      <th>ctr</th>\n",
       "    </tr>\n",
       "  </thead>\n",
       "  <tbody>\n",
       "    <tr>\n",
       "      <th>0</th>\n",
       "      <td>1</td>\n",
       "      <td>109963</td>\n",
       "      <td>3</td>\n",
       "      <td>15</td>\n",
       "      <td>0.200000</td>\n",
       "    </tr>\n",
       "    <tr>\n",
       "      <th>1</th>\n",
       "      <td>1</td>\n",
       "      <td>26117</td>\n",
       "      <td>32</td>\n",
       "      <td>141</td>\n",
       "      <td>0.226950</td>\n",
       "    </tr>\n",
       "    <tr>\n",
       "      <th>2</th>\n",
       "      <td>1</td>\n",
       "      <td>138232</td>\n",
       "      <td>18</td>\n",
       "      <td>73</td>\n",
       "      <td>0.246575</td>\n",
       "    </tr>\n",
       "    <tr>\n",
       "      <th>3</th>\n",
       "      <td>1</td>\n",
       "      <td>26295</td>\n",
       "      <td>33</td>\n",
       "      <td>122</td>\n",
       "      <td>0.270492</td>\n",
       "    </tr>\n",
       "    <tr>\n",
       "      <th>4</th>\n",
       "      <td>1</td>\n",
       "      <td>18392</td>\n",
       "      <td>7</td>\n",
       "      <td>32</td>\n",
       "      <td>0.218750</td>\n",
       "    </tr>\n",
       "  </tbody>\n",
       "</table>\n",
       "</div>"
      ],
      "text/plain": [
       "   exp_group  user_id  likes  views       ctr\n",
       "0          1   109963      3     15  0.200000\n",
       "1          1    26117     32    141  0.226950\n",
       "2          1   138232     18     73  0.246575\n",
       "3          1    26295     33    122  0.270492\n",
       "4          1    18392      7     32  0.218750"
      ]
     },
     "execution_count": 78,
     "metadata": {},
     "output_type": "execute_result"
    }
   ],
   "source": [
    "#выгружаем данные из clickhouse\n",
    "\n",
    "connection = {\n",
    "    'host': '********',\n",
    "    'password': '*********',\n",
    "    'user':'*******',\n",
    "    'database':'***********'\n",
    "}\n",
    "\n",
    "q = \"\"\"\n",
    "select exp_group, user_id, \n",
    "       sum(action = 'like') as likes,\n",
    "       sum(action = 'view') as views,\n",
    "       likes/views as ctr\n",
    "from {db}.feed_actions\n",
    "where toDate(time) >= '2022-05-24' and toDate(time) <= '2022-05-30'\n",
    "      and exp_group in (1, 2)\n",
    "group by exp_group, user_id\n",
    "\"\"\"\n",
    "\n",
    "df = pandahouse.read_clickhouse(q, connection = connection)\n",
    "df.head(5)"
   ]
  },
  {
   "cell_type": "code",
   "execution_count": 79,
   "id": "c6decfe8",
   "metadata": {},
   "outputs": [
    {
     "data": {
      "image/png": "[encoded data removed]",
      "text/plain": [
       "<Figure size 842.4x595.44 with 1 Axes>"
      ]
     },
     "metadata": {},
     "output_type": "display_data"
    }
   ],
   "source": [
    "#визуализация распределения ctr для двух групп пользователей\n",
    "\n",
    "sns.set(rc = {'figure.figsize':(11.7, 8.27)})\n",
    "\n",
    "groups = sns.histplot(data = df, \n",
    "                      x = 'ctr',\n",
    "                      hue = 'exp_group',\n",
    "                      palette = ['r', 'b'],\n",
    "                      alpha = 0.5,\n",
    "                      kde = False)"
   ]
  },
  {
   "cell_type": "markdown",
   "id": "5ba9caa2",
   "metadata": {},
   "source": [
    "Во-первых, видно, что распределение во второй группе не является унимодальным, в отличие от распределения в первой группе."
   ]
  },
  {
   "cell_type": "code",
   "execution_count": 80,
   "id": "5359923d",
   "metadata": {},
   "outputs": [
    {
     "data": {
      "text/plain": [
       "Ttest_indResult(statistic=0.7094392041270486, pvalue=0.4780623130874935)"
      ]
     },
     "execution_count": 80,
     "metadata": {},
     "output_type": "execute_result"
    }
   ],
   "source": [
    "#реализация t-теста\n",
    "stats.ttest_ind(df[df['exp_group']==1].ctr,\n",
    "                df[df['exp_group']==2].ctr,\n",
    "                equal_var = False)"
   ]
  },
  {
   "cell_type": "markdown",
   "id": "929c8e07",
   "metadata": {},
   "source": [
    "t-тест сравнивает средние значения в двух выборках. \n",
    "Так как вторая выборка не является унимодальной, то среднее для нее нельзя назвать показательным. В то же время средние этих двух выборок действительно могут быть близки, что нам и показал t-тест (что нет статистической разницы между этими двумя выборками)."
   ]
  },
  {
   "cell_type": "code",
   "execution_count": 81,
   "id": "ed997440",
   "metadata": {},
   "outputs": [
    {
     "data": {
      "text/plain": [
       "(0.21560459841296403, 0.21441927347479056)"
      ]
     },
     "execution_count": 81,
     "metadata": {},
     "output_type": "execute_result"
    }
   ],
   "source": [
    "#ради интереса посмотрим средние в этих выборках\n",
    "df[df['exp_group']==1].ctr.mean(), df[df['exp_group']==2].ctr.mean()"
   ]
  },
  {
   "cell_type": "markdown",
   "id": "08ee233b",
   "metadata": {},
   "source": [
    "Видно, что средние значения действительно близки, однако даже по форме распределений видно, что различия между ними есть."
   ]
  },
  {
   "cell_type": "code",
   "execution_count": 53,
   "id": "6afdbfe7",
   "metadata": {},
   "outputs": [
    {
     "data": {
      "text/plain": [
       "MannwhitneyuResult(statistic=56601260.5, pvalue=6.0376484617779035e-56)"
      ]
     },
     "execution_count": 53,
     "metadata": {},
     "output_type": "execute_result"
    }
   ],
   "source": [
    "#реализация теста Манна-Уитни\n",
    "stats.mannwhitneyu(df[df.exp_group == 1].ctr,\n",
    "                   df[df.exp_group == 2].ctr)"
   ]
  },
  {
   "cell_type": "markdown",
   "id": "69a874b7",
   "metadata": {},
   "source": [
    "Тест Манна-Уитни наоборот показывает, что p_value стремится к нулю, а значит различия между выборками значительные.\n",
    "\n",
    "Это происходит потому, что тест Манна-Уитни проверяет достаточно ли мала зона перекрещивающихся значений между двумя выборками (ранжированным рядом значений параметра в первой выборке и таким же во второй выборке). \n",
    "\n",
    "На визуализации видно, что зона перекрещивающихся значений мала, как раз из-за того, что второе распределение имеет две моды. Поэтому тест и показал значение p_value близкое к нулю."
   ]
  },
  {
   "cell_type": "markdown",
   "id": "07016a59",
   "metadata": {},
   "source": [
    "### t-test на сглаженном ctr"
   ]
  },
  {
   "cell_type": "code",
   "execution_count": 54,
   "id": "918f4715",
   "metadata": {},
   "outputs": [],
   "source": [
    "#t-test на сглаженном ctr\n",
    "#функция расчета сглаженного ctr\n",
    "\n",
    "def get_smoothed_ctr(user_likes, user_views, global_ctr, alpha):\n",
    "    smoothed_ctr = (user_likes + alpha * global_ctr) / (user_views + alpha)\n",
    "    return smoothed_ctr"
   ]
  },
  {
   "cell_type": "code",
   "execution_count": 18,
   "id": "0a53f98d",
   "metadata": {},
   "outputs": [],
   "source": [
    "#расчет глобальных ctr\n",
    "\n",
    "global_ctr_1 = df[df.exp_group == 1].likes.sum()/df[df.exp_group == 1].views.sum()\n",
    "global_ctr_2 = df[df.exp_group == 2].likes.sum()/df[df.exp_group == 2].views.sum()\n",
    "\n",
    "#расчет smoothed_ctr для каждой группы\n",
    "group1 = df[df.exp_group == 1].copy()\n",
    "\n",
    "group1['smoothed_ctr'] = df.apply(\n",
    "       lambda x: get_smoothed_ctr(x['likes'], x['views'], global_ctr_1, 5), axis = 1)\n",
    "\n",
    "group2 = df[df.exp_group == 2].copy()\n",
    "\n",
    "group2['smoothed_ctr'] = df.apply(\n",
    "      lambda x: get_smoothed_ctr(x['likes'], x['views'], global_ctr_2, 5), axis = 1)"
   ]
  },
  {
   "cell_type": "code",
   "execution_count": 62,
   "id": "e710e0a1",
   "metadata": {},
   "outputs": [
    {
     "data": {
      "image/png": "[encoded data removed]",
      "text/plain": [
       "<Figure size 1440x504 with 2 Axes>"
      ]
     },
     "metadata": {},
     "output_type": "display_data"
    }
   ],
   "source": [
    "#визуализация распределения сглаженного ctr для двух групп пользователей \n",
    "\n",
    "fig = plt.subplots(figsize = (20, 7))\n",
    "\n",
    "plt.subplot(1, 2, 1)\n",
    "sns.distplot(group1.smoothed_ctr, kde = False)\n",
    "plt.title('Распределение сглаженного ctr в группе 1', fontsize = 20, pad = 15)\n",
    "\n",
    "plt.subplot(1, 2, 2)\n",
    "sns.distplot(group2['smoothed_ctr'], kde = False)\n",
    "plt.title('Распределение сглаженного ctr в группе 2', fontsize = 20, pad = 15)\n",
    "\n",
    "plt.show()"
   ]
  },
  {
   "cell_type": "code",
   "execution_count": 63,
   "id": "526c86bd",
   "metadata": {},
   "outputs": [
    {
     "data": {
      "text/plain": [
       "Ttest_indResult(statistic=1.3692822886076694, pvalue=0.17093053814006512)"
      ]
     },
     "execution_count": 63,
     "metadata": {},
     "output_type": "execute_result"
    }
   ],
   "source": [
    "stats.ttest_ind(group1.smoothed_ctr, \n",
    "                group2.smoothed_ctr,\n",
    "                equal_var = False)"
   ]
  },
  {
   "cell_type": "markdown",
   "id": "5ac170d9",
   "metadata": {},
   "source": [
    "После выполнения сглаживания ctr  t-тест все еще показывает, что значимого различия нет, но значение p_value уменьшилось по сравнению с t-тестом на несглаженном ctr (0.47 против 0.17)."
   ]
  },
  {
   "cell_type": "code",
   "execution_count": 84,
   "id": "d2f760d0",
   "metadata": {},
   "outputs": [
    {
     "data": {
      "text/plain": [
       "(0.21414168642770554, 0.21216989112932247)"
      ]
     },
     "execution_count": 84,
     "metadata": {},
     "output_type": "execute_result"
    }
   ],
   "source": [
    "#опять же сравним средние значения сглаженных ctr в двух группах\n",
    "group1.smoothed_ctr.mean(), group2.smoothed_ctr.mean()"
   ]
  },
  {
   "cell_type": "markdown",
   "id": "d9cfdc9a",
   "metadata": {},
   "source": [
    "### Пуассоновский бутстреп"
   ]
  },
  {
   "cell_type": "code",
   "execution_count": 64,
   "id": "3183f1c9",
   "metadata": {},
   "outputs": [],
   "source": [
    "#функция пуассоновского бутстрепа для подсчета разницы в CTR\n",
    "def bootstrap (likes1, likes2, views1, views2, n_bootstrap = 2000):\n",
    "    \n",
    "    poisson_bootstraps1 = stats.poisson(1).rvs(\n",
    "    (n_bootstrap, len(likes1))).astype(np.int64)\n",
    "    \n",
    "    poisson_bootstraps2 = stats.poisson(1).rvs(\n",
    "    (n_bootstrap, len(likes2))).astype(np.int64)\n",
    "    \n",
    "    globalCTR1 = (poisson_bootstraps1*likes1).sum(axis = 1)/(poisson_bootstraps1*views1).sum(axis = 1)\n",
    "    globalCTR2 = (poisson_bootstraps2*likes2).sum(axis = 1)/(poisson_bootstraps2*views2).sum(axis = 1)\n",
    "    \n",
    "    return globalCTR1, globalCTR2"
   ]
  },
  {
   "cell_type": "code",
   "execution_count": 87,
   "id": "6475cb6e",
   "metadata": {},
   "outputs": [
    {
     "data": {
      "text/plain": [
       "<matplotlib.legend.Legend at 0x7fe9eceb62b0>"
      ]
     },
     "execution_count": 87,
     "metadata": {},
     "output_type": "execute_result"
    },
    {
     "data": {
      "image/png": "[encoded data removed]",
      "text/plain": [
       "<Figure size 842.4x595.44 with 1 Axes>"
      ]
     },
     "metadata": {},
     "output_type": "display_data"
    }
   ],
   "source": [
    "#реализация пуассоновского бутстрепа\n",
    "likes1 = df[df.exp_group == 1].likes.to_numpy()\n",
    "views1 = df[df.exp_group == 1].views.to_numpy()\n",
    "\n",
    "likes2 = df[df.exp_group == 2].likes.to_numpy()\n",
    "views2 = df[df.exp_group == 2].views.to_numpy()\n",
    "\n",
    "ctr1, ctr2 = bootstrap(likes1, likes2, views1, views2)\n",
    "\n",
    "sns.histplot(ctr1, label = 'ctr1', color = 'r')\n",
    "sns.histplot(ctr2, label = 'ctr2')\n",
    "plt.legend()"
   ]
  },
  {
   "cell_type": "code",
   "execution_count": 88,
   "id": "dd4aad70",
   "metadata": {},
   "outputs": [
    {
     "data": {
      "text/plain": [
       "<AxesSubplot:ylabel='Count'>"
      ]
     },
     "execution_count": 88,
     "metadata": {},
     "output_type": "execute_result"
    },
    {
     "data": {
      "image/png": "[encoded data removed]",
      "text/plain": [
       "<Figure size 842.4x595.44 with 1 Axes>"
      ]
     },
     "metadata": {},
     "output_type": "display_data"
    }
   ],
   "source": [
    "#распределение разности между глобальными ctr\n",
    "sns.histplot(ctr1 - ctr2)"
   ]
  },
  {
   "cell_type": "markdown",
   "id": "9df51632",
   "metadata": {},
   "source": [
    "Выборки не пересекаются между собой и разница между глобальными ctr не пересекается с нулем, а значит p_value = 0 и значимые различия между двумя этими выборками есть.\n",
    "\n",
    "Бутстреп не требователен к форме распределения, что важно в нашем случае. "
   ]
  },
  {
   "cell_type": "markdown",
   "id": "15ef9cb3",
   "metadata": {},
   "source": [
    "### Реализация бакетного преобразования"
   ]
  },
  {
   "cell_type": "code",
   "execution_count": 67,
   "id": "935a6a99",
   "metadata": {},
   "outputs": [],
   "source": [
    "#реализация бакетного преобразования в clickhouse\n",
    "q = \"\"\"\n",
    "select exp_group, bucket,\n",
    "       sum(likes)/sum(views) as bucket_ctr\n",
    "from (select exp_group,\n",
    "             xxHash64(user_id)%50 as bucket,\n",
    "             user_id,\n",
    "             sum(action = 'like') as likes, \n",
    "             sum(action = 'view') as views,\n",
    "             likes/views as ctr\n",
    "     from {db}.feed_actions\n",
    "     where toDate(time) between '2022-05-24' and '2022-05-30'\n",
    "           and exp_group in (1, 2)\n",
    "     group by exp_group, bucket, user_id)\n",
    "group by exp_group, bucket\n",
    "           \n",
    "\"\"\"\n",
    "\n",
    "df = pandahouse.read_clickhouse(q, connection = connection)"
   ]
  },
  {
   "cell_type": "code",
   "execution_count": 69,
   "id": "ca52b21c",
   "metadata": {},
   "outputs": [
    {
     "data": {
      "text/plain": [
       "Ttest_indResult(statistic=5.668234732053979, pvalue=3.4455951649945907e-07)"
      ]
     },
     "execution_count": 69,
     "metadata": {},
     "output_type": "execute_result"
    }
   ],
   "source": [
    "#t-test поверх бакетного преобразования\n",
    "stats.ttest_ind(df[df.exp_group == 1].bucket_ctr,\n",
    "                df[df.exp_group == 2].bucket_ctr,\n",
    "                equal_var = False)"
   ]
  },
  {
   "cell_type": "code",
   "execution_count": null,
   "id": "80cebd3c",
   "metadata": {},
   "outputs": [],
   "source": [
    "#тест Манна-Уитни поверх бакетного преобразования"
   ]
  },
  {
   "cell_type": "code",
   "execution_count": 70,
   "id": "aad50c3a",
   "metadata": {},
   "outputs": [
    {
     "data": {
      "text/plain": [
       "MannwhitneyuResult(statistic=1995.0, pvalue=2.859963936492646e-07)"
      ]
     },
     "execution_count": 70,
     "metadata": {},
     "output_type": "execute_result"
    }
   ],
   "source": [
    "stats.mannwhitneyu(df[df.exp_group == 1].bucket_ctr,\n",
    "                   df[df.exp_group == 2].bucket_ctr,\n",
    "                   alternative = 'two-sided')"
   ]
  },
  {
   "cell_type": "markdown",
   "id": "70f89e33",
   "metadata": {},
   "source": [
    "Здесь в обоих тестах p_value значительно мало, а значит различия между выборками есть. \n",
    "\n",
    "Применяя бакетное преобразование мы в каком-то смысле решаем проблему мультимодальности распределения ctr во второй группе и приводя в том или ином виде ctr во второй группе к виду нормального распределения. \n",
    "\n",
    "Поэтому оба теста поверх бакетного распределения показывают нам примерно одинаковый результат."
   ]
  },
  {
   "cell_type": "code",
   "execution_count": 74,
   "id": "5d3199a4",
   "metadata": {},
   "outputs": [
    {
     "data": {
      "image/png": "[encoded data removed]",
      "text/plain": [
       "<Figure size 1440x504 with 2 Axes>"
      ]
     },
     "metadata": {},
     "output_type": "display_data"
    }
   ],
   "source": [
    "fig = plt.subplots(figsize = (20, 7))\n",
    "\n",
    "plt.subplot(1, 2, 1)\n",
    "sns.histplot(df[df.exp_group == 1].bucket_ctr, bins = 10)\n",
    "plt.title('Распределение bucket_ctr в группе 1', fontsize = 20, pad = 15)\n",
    "\n",
    "plt.subplot(1, 2, 2)\n",
    "sns.histplot(df[df.exp_group == 2].bucket_ctr, bins = 10)\n",
    "plt.title('Распределение bucket_ctr в группе 2', fontsize = 20, pad = 15)\n",
    "\n",
    "plt.show()"
   ]
  },
  {
   "cell_type": "markdown",
   "id": "ae101434",
   "metadata": {},
   "source": [
    "### Итоги"
   ]
  },
  {
   "cell_type": "markdown",
   "id": "4da12f61",
   "metadata": {},
   "source": [
    "- t-test и тест Манна-Уитни показали абсолютно противополжный результат: t-test показал, что разницы между выборками нет, тест Манна-Уитни показал, что разница очень велика;\n",
    "\n",
    "- после сглаживания ctr t-test все равно не показал разницы между первой и второй группой, потому что сглаживание не повлияло на распределение второй группы, которое не было унимодальным;\n",
    "\n",
    "- пуассоновский бутстреп и реализация тестов поверх бакетного преобразования показало наличие статистической разницы в первой и второй группах;\n",
    "\n",
    "- можно предположить, что у нас в ходе эксперимента образовалось две группы пользователей: одни ставили примерно 10 лайков на 100 просмотров (причем это бОльшая группа пользователей), другие примерно 30 лайков на 100 просмотров. \n",
    "\n",
    "  В контрольной группе показатель примерно 20 лайков на 100 просмотров. \n",
    "\n",
    "  Исходя из этого можно сказать, что изначальная группа пользователей разделилась на тех, кто стал ставить больше лайков и тех, кто стал ставить меньше лайков. Причем тех, кто стал ставить меньше лайков бОльшее число.\n",
    " \n",
    "- исходя из этих соображений я бы не рекомендовала раскатывать новый алгоритм на всех пользователей на основании текущих результатов. \n",
    "\n",
    "- возможно, на этот эксперимент наложились какие-то другие факторы и влияние на пользователей оказал не алгоритм, можно попробовать провести еще один аналогичный эксперимент на других группах пользователей, чтобы дать уже окончательную оценку эффективности алгоритма."
   ]
  }
 ],
 "metadata": {
  "kernelspec": {
   "display_name": "Python 3 (ipykernel)",
   "language": "python",
   "name": "python3"
  },
  "language_info": {
   "codemirror_mode": {
    "name": "ipython",
    "version": 3
   },
   "file_extension": ".py",
   "mimetype": "text/x-python",
   "name": "python",
   "nbconvert_exporter": "python",
   "pygments_lexer": "ipython3",
   "version": "3.8.2"
  }
 },
 "nbformat": 4,
 "nbformat_minor": 5
}

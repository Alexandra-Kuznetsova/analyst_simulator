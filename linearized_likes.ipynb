{
 "cells": [
  {
   "cell_type": "markdown",
   "id": "5bcc0a24",
   "metadata": {},
   "source": [
    "### Задача 3\n",
    "\n",
    "Вместо того, чтобы заталкивать в тест «поюзерные» CTR, можно сконструировать другую метрику и анализировать ее, но при этом гарантируется (в отличие от сглаженного CTR), что если тест на этой другой метрике «прокрасится» и увидит изменения, значит изменения есть и в метрике исходной (то есть в лайках на пользователя и в пользовательских CTR.\n",
    "\n",
    "Считаем общий CTR в контрольной группе  \n",
    "\n",
    "- 𝐶𝑇𝑅𝑐𝑜𝑛𝑡𝑟𝑜𝑙=𝑠𝑢𝑚(𝑙𝑖𝑘𝑒𝑠)/𝑠𝑢𝑚(𝑣𝑖𝑒𝑤𝑠) \n",
    "\n",
    "- Посчитаем в обеих группах поюзерную метрику  𝑙𝑖𝑛𝑒𝑎𝑟𝑖𝑧𝑒𝑑_𝑙𝑖𝑘𝑒𝑠=𝑙𝑖𝑘𝑒𝑠−𝐶𝑇𝑅𝑐𝑜𝑛𝑡𝑟𝑜𝑙∗𝑣𝑖𝑒𝑤𝑠 \n",
    "\n",
    "- После чего сравним  t-тестом отличия в группах по метрике 𝑙𝑖𝑛𝑒𝑎𝑟𝑖𝑧𝑒𝑑_𝑙𝑖𝑘𝑒𝑠  \n"
   ]
  },
  {
   "cell_type": "code",
   "execution_count": 1,
   "id": "8891439f",
   "metadata": {},
   "outputs": [],
   "source": [
    "import pandahouse\n",
    "import swifter\n",
    "import hashlib\n",
    "import seaborn as sns\n",
    "import numpy as np\n",
    "from scipy import stats\n",
    "import pandas as pd"
   ]
  },
  {
   "cell_type": "code",
   "execution_count": 39,
   "id": "02f2ddce",
   "metadata": {},
   "outputs": [
    {
     "data": {
      "text/html": [
       "<div>\n",
       "<style scoped>\n",
       "    .dataframe tbody tr th:only-of-type {\n",
       "        vertical-align: middle;\n",
       "    }\n",
       "\n",
       "    .dataframe tbody tr th {\n",
       "        vertical-align: top;\n",
       "    }\n",
       "\n",
       "    .dataframe thead th {\n",
       "        text-align: right;\n",
       "    }\n",
       "</style>\n",
       "<table border=\"1\" class=\"dataframe\">\n",
       "  <thead>\n",
       "    <tr style=\"text-align: right;\">\n",
       "      <th></th>\n",
       "      <th>exp_group</th>\n",
       "      <th>user_id</th>\n",
       "      <th>likes</th>\n",
       "      <th>views</th>\n",
       "      <th>ctr</th>\n",
       "    </tr>\n",
       "  </thead>\n",
       "  <tbody>\n",
       "    <tr>\n",
       "      <th>0</th>\n",
       "      <td>3</td>\n",
       "      <td>115383</td>\n",
       "      <td>9</td>\n",
       "      <td>30</td>\n",
       "      <td>0.300000</td>\n",
       "    </tr>\n",
       "    <tr>\n",
       "      <th>1</th>\n",
       "      <td>1</td>\n",
       "      <td>18392</td>\n",
       "      <td>7</td>\n",
       "      <td>32</td>\n",
       "      <td>0.218750</td>\n",
       "    </tr>\n",
       "    <tr>\n",
       "      <th>2</th>\n",
       "      <td>2</td>\n",
       "      <td>131473</td>\n",
       "      <td>14</td>\n",
       "      <td>134</td>\n",
       "      <td>0.104478</td>\n",
       "    </tr>\n",
       "    <tr>\n",
       "      <th>3</th>\n",
       "      <td>3</td>\n",
       "      <td>123580</td>\n",
       "      <td>13</td>\n",
       "      <td>48</td>\n",
       "      <td>0.270833</td>\n",
       "    </tr>\n",
       "    <tr>\n",
       "      <th>4</th>\n",
       "      <td>2</td>\n",
       "      <td>32420</td>\n",
       "      <td>26</td>\n",
       "      <td>128</td>\n",
       "      <td>0.203125</td>\n",
       "    </tr>\n",
       "  </tbody>\n",
       "</table>\n",
       "</div>"
      ],
      "text/plain": [
       "   exp_group  user_id  likes  views       ctr\n",
       "0          3   115383      9     30  0.300000\n",
       "1          1    18392      7     32  0.218750\n",
       "2          2   131473     14    134  0.104478\n",
       "3          3   123580     13     48  0.270833\n",
       "4          2    32420     26    128  0.203125"
      ]
     },
     "execution_count": 39,
     "metadata": {},
     "output_type": "execute_result"
    }
   ],
   "source": [
    "#выгружаем данные из clickhouse\n",
    "connection = {\n",
    "    'host': 'https://clickhouse.lab.karpov.courses',\n",
    "    'password': 'dpo_python_2020',\n",
    "    'user':'student',\n",
    "    'database':'simulator_20220620'\n",
    "}\n",
    "\n",
    "q = \"\"\"\n",
    "select exp_group, user_id, \n",
    "       sum(action = 'like') as likes,\n",
    "       sum(action = 'view') as views,\n",
    "       likes/views as ctr\n",
    "from {db}.feed_actions\n",
    "where toDate(time) >= '2022-05-24' and toDate(time) <= '2022-05-30'\n",
    "      and exp_group in (0, 1, 2, 3)\n",
    "group by exp_group, user_id\n",
    "\"\"\"\n",
    "\n",
    "df = pandahouse.read_clickhouse(q, connection = connection)\n",
    "\n",
    "df.head(5)"
   ]
  },
  {
   "cell_type": "code",
   "execution_count": 40,
   "id": "95bdfc46",
   "metadata": {},
   "outputs": [],
   "source": [
    "#расчет CTR в контрольных группах и linearized_likes в группах\n",
    "#0, 1 - контрольные группы, новый алгоритм раскатили на 2, 3 группы\n",
    "\n",
    "#0 группа контрольная, 3 группа тестовая\n",
    "CTRcontrol_0 = df[df.exp_group == 0].likes.sum()/df[df.exp_group == 0].views.sum()\n",
    "linearized_likes_0 = df[df.exp_group == 0].likes - CTRcontrol_0*df[df.exp_group == 0].views\n",
    "linearized_likes_3 = df[df.exp_group == 3].likes - CTRcontrol_0*df[df.exp_group == 3].views\n",
    "\n",
    "#1 группа контрольная, 2 группа тестовая\n",
    "CTRcontrol_1 = df[df.exp_group == 1].likes.sum()/df[df.exp_group == 1].views.sum()\n",
    "linearized_likes_1 = df[df.exp_group == 1].likes - CTRcontrol_1*df[df.exp_group == 1].views\n",
    "linearized_likes_2 = df[df.exp_group == 2].likes - CTRcontrol_1*df[df.exp_group == 2].views"
   ]
  },
  {
   "cell_type": "markdown",
   "id": "22ced3dd",
   "metadata": {},
   "source": [
    "Анализ теста между группами 0 и 3 по метрике линеаризованных лайков. Видно ли отличие? Стало ли 𝑝−𝑣𝑎𝑙𝑢𝑒 меньше?"
   ]
  },
  {
   "cell_type": "code",
   "execution_count": 41,
   "id": "a3dc0757",
   "metadata": {},
   "outputs": [
    {
     "data": {
      "text/plain": [
       "Ttest_indResult(statistic=-15.214995460903827, pvalue=5.4914249479690016e-52)"
      ]
     },
     "execution_count": 41,
     "metadata": {},
     "output_type": "execute_result"
    }
   ],
   "source": [
    "stats.ttest_ind(linearized_likes_0, linearized_likes_3, equal_var = False)"
   ]
  },
  {
   "cell_type": "code",
   "execution_count": 42,
   "id": "c0774f8d",
   "metadata": {},
   "outputs": [
    {
     "data": {
      "text/plain": [
       "MannwhitneyuResult(statistic=43338326.0, pvalue=1.1517315029786597e-63)"
      ]
     },
     "execution_count": 42,
     "metadata": {},
     "output_type": "execute_result"
    }
   ],
   "source": [
    "stats.mannwhitneyu(linearized_likes_0, linearized_likes_3, alternative = 'two-sided')"
   ]
  },
  {
   "cell_type": "markdown",
   "id": "a5184ae7",
   "metadata": {},
   "source": [
    "#### p value стремится к нулю, а значит между группами 0 и 3 есть отличие."
   ]
  },
  {
   "cell_type": "markdown",
   "id": "32c75cd9",
   "metadata": {},
   "source": [
    "Анализ теста между группами 1 и 2 по метрике линеаризованных лайков. Видно ли отличие? Стало ли 𝑝−𝑣𝑎𝑙𝑢𝑒 меньше?"
   ]
  },
  {
   "cell_type": "code",
   "execution_count": 43,
   "id": "cfea77ff",
   "metadata": {},
   "outputs": [
    {
     "data": {
      "text/plain": [
       "Ttest_indResult(statistic=6.122579994775972, pvalue=9.439432187037712e-10)"
      ]
     },
     "execution_count": 43,
     "metadata": {},
     "output_type": "execute_result"
    }
   ],
   "source": [
    "stats.ttest_ind(linearized_likes_1, linearized_likes_2, equal_var = False)"
   ]
  },
  {
   "cell_type": "code",
   "execution_count": 44,
   "id": "3b5715c6",
   "metadata": {},
   "outputs": [
    {
     "data": {
      "text/plain": [
       "MannwhitneyuResult(statistic=54534537.0, pvalue=9.404319579641738e-27)"
      ]
     },
     "execution_count": 44,
     "metadata": {},
     "output_type": "execute_result"
    }
   ],
   "source": [
    "stats.mannwhitneyu(linearized_likes_1, linearized_likes_2, alternative = 'two-sided')"
   ]
  },
  {
   "cell_type": "markdown",
   "id": "ce9d2ca9",
   "metadata": {},
   "source": [
    "#### p value стремится к нулю, а значит между группами 1 и 2 есть отличие."
   ]
  },
  {
   "cell_type": "code",
   "execution_count": null,
   "id": "2c2857ed",
   "metadata": {},
   "outputs": [],
   "source": []
  }
 ],
 "metadata": {
  "kernelspec": {
   "display_name": "Python 3 (ipykernel)",
   "language": "python",
   "name": "python3"
  },
  "language_info": {
   "codemirror_mode": {
    "name": "ipython",
    "version": 3
   },
   "file_extension": ".py",
   "mimetype": "text/x-python",
   "name": "python",
   "nbconvert_exporter": "python",
   "pygments_lexer": "ipython3",
   "version": "3.8.2"
  }
 },
 "nbformat": 4,
 "nbformat_minor": 5
}
